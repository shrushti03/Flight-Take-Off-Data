{
 "cells": [
  {
   "cell_type": "markdown",
   "id": "aec517bd",
   "metadata": {},
   "source": [
    "This file contains data about flights leaving from JKF ariport between Nov 2019-Dec-2020. Taxi-Out prediction has been an important concept as it helps in calculating Runway time and directly impact the cost of the flight.\n",
    "\n",
    "Task Details\n",
    "Go throught the dataset and perform preprocessing and then perform a 90:10 split and for train and test pruposes.\n",
    "Firstly label encode the columns which are required.\n",
    "Your target or y variable is TAXI-OUT time. Use all 8 algorithms above on the dataset with loss score as RMSE (Root mean Square Error).\n",
    "Now, One-Hot encode all the data points and preform the 3rd Step again.\n",
    "Keep in mind that you will be using the same splitted dataframe for all the training and testing and should not split again.\n",
    "\n",
    "Some models to consider:-\n",
    "Linear Models:-\n",
    "\n",
    "Linear Regression\n",
    "Ridge Regression(Popularily L1)\n",
    "Lasso Regression(Popularily L2)\n",
    "Non linear Models:-\n",
    "\n",
    "KNN model\n",
    "SVR\n",
    "Naive Bayes\n",
    "Random Forest\n"
   ]
  },
  {
   "cell_type": "code",
   "execution_count": 38,
   "id": "d0bee3f3",
   "metadata": {},
   "outputs": [],
   "source": [
    "import numpy as np \n",
    "import pandas as pd \n",
    "from pandas import Series, DataFrame \n",
    "import matplotlib.pyplot as plt \n",
    "import math \n",
    "import sklearn"
   ]
  },
  {
   "cell_type": "code",
   "execution_count": 4,
   "id": "66a0c92a",
   "metadata": {},
   "outputs": [],
   "source": [
    "from sklearn import preprocessing\n",
    "from sklearn.preprocessing import LabelEncoder, OneHotEncoder\n",
    "from sklearn.datasets import make_blobs \n",
    "from sklearn.model_selection import train_test_split\n",
    "from sklearn.metrics import mean_squared_error\n",
    "from sklearn.linear_model import LinearRegression, Ridge, Lasso\n",
    "from sklearn.neighbors import KNeighborsClassifier\n",
    "from sklearn.svm import SVR\n",
    "from sklearn.naive_bayes import GaussianNB\n",
    "from sklearn.ensemble import RandomForestClassifier\n",
    "\n",
    "\n",
    "%matplotlib inline\n"
   ]
  },
  {
   "cell_type": "code",
   "execution_count": 5,
   "id": "0bd08acd",
   "metadata": {},
   "outputs": [],
   "source": [
    "data=pd.read_csv(\"M1_final.csv\")"
   ]
  },
  {
   "cell_type": "code",
   "execution_count": 7,
   "id": "7d65add7",
   "metadata": {},
   "outputs": [
    {
     "data": {
      "text/html": [
       "<div>\n",
       "<style scoped>\n",
       "    .dataframe tbody tr th:only-of-type {\n",
       "        vertical-align: middle;\n",
       "    }\n",
       "\n",
       "    .dataframe tbody tr th {\n",
       "        vertical-align: top;\n",
       "    }\n",
       "\n",
       "    .dataframe thead th {\n",
       "        text-align: right;\n",
       "    }\n",
       "</style>\n",
       "<table border=\"1\" class=\"dataframe\">\n",
       "  <thead>\n",
       "    <tr style=\"text-align: right;\">\n",
       "      <th></th>\n",
       "      <th>MONTH</th>\n",
       "      <th>DAY_OF_MONTH</th>\n",
       "      <th>DAY_OF_WEEK</th>\n",
       "      <th>OP_UNIQUE_CARRIER</th>\n",
       "      <th>TAIL_NUM</th>\n",
       "      <th>DEST</th>\n",
       "      <th>DEP_DELAY</th>\n",
       "      <th>CRS_ELAPSED_TIME</th>\n",
       "      <th>DISTANCE</th>\n",
       "      <th>CRS_DEP_M</th>\n",
       "      <th>...</th>\n",
       "      <th>Dew Point</th>\n",
       "      <th>Humidity</th>\n",
       "      <th>Wind</th>\n",
       "      <th>Wind Speed</th>\n",
       "      <th>Wind Gust</th>\n",
       "      <th>Pressure</th>\n",
       "      <th>Condition</th>\n",
       "      <th>sch_dep</th>\n",
       "      <th>sch_arr</th>\n",
       "      <th>TAXI_OUT</th>\n",
       "    </tr>\n",
       "  </thead>\n",
       "  <tbody>\n",
       "    <tr>\n",
       "      <th>0</th>\n",
       "      <td>11</td>\n",
       "      <td>1</td>\n",
       "      <td>5</td>\n",
       "      <td>B6</td>\n",
       "      <td>N828JB</td>\n",
       "      <td>CHS</td>\n",
       "      <td>-1</td>\n",
       "      <td>124</td>\n",
       "      <td>636</td>\n",
       "      <td>324</td>\n",
       "      <td>...</td>\n",
       "      <td>34</td>\n",
       "      <td>58</td>\n",
       "      <td>W</td>\n",
       "      <td>25</td>\n",
       "      <td>38</td>\n",
       "      <td>29.86</td>\n",
       "      <td>Fair / Windy</td>\n",
       "      <td>9</td>\n",
       "      <td>17</td>\n",
       "      <td>14</td>\n",
       "    </tr>\n",
       "    <tr>\n",
       "      <th>1</th>\n",
       "      <td>11</td>\n",
       "      <td>1</td>\n",
       "      <td>5</td>\n",
       "      <td>B6</td>\n",
       "      <td>N992JB</td>\n",
       "      <td>LAX</td>\n",
       "      <td>-7</td>\n",
       "      <td>371</td>\n",
       "      <td>2475</td>\n",
       "      <td>340</td>\n",
       "      <td>...</td>\n",
       "      <td>34</td>\n",
       "      <td>58</td>\n",
       "      <td>W</td>\n",
       "      <td>25</td>\n",
       "      <td>38</td>\n",
       "      <td>29.86</td>\n",
       "      <td>Fair / Windy</td>\n",
       "      <td>9</td>\n",
       "      <td>17</td>\n",
       "      <td>15</td>\n",
       "    </tr>\n",
       "    <tr>\n",
       "      <th>2</th>\n",
       "      <td>11</td>\n",
       "      <td>1</td>\n",
       "      <td>5</td>\n",
       "      <td>B6</td>\n",
       "      <td>N959JB</td>\n",
       "      <td>FLL</td>\n",
       "      <td>40</td>\n",
       "      <td>181</td>\n",
       "      <td>1069</td>\n",
       "      <td>301</td>\n",
       "      <td>...</td>\n",
       "      <td>34</td>\n",
       "      <td>58</td>\n",
       "      <td>W</td>\n",
       "      <td>25</td>\n",
       "      <td>38</td>\n",
       "      <td>29.86</td>\n",
       "      <td>Fair / Windy</td>\n",
       "      <td>9</td>\n",
       "      <td>17</td>\n",
       "      <td>22</td>\n",
       "    </tr>\n",
       "    <tr>\n",
       "      <th>3</th>\n",
       "      <td>11</td>\n",
       "      <td>1</td>\n",
       "      <td>5</td>\n",
       "      <td>B6</td>\n",
       "      <td>N999JQ</td>\n",
       "      <td>MCO</td>\n",
       "      <td>-2</td>\n",
       "      <td>168</td>\n",
       "      <td>944</td>\n",
       "      <td>345</td>\n",
       "      <td>...</td>\n",
       "      <td>34</td>\n",
       "      <td>58</td>\n",
       "      <td>W</td>\n",
       "      <td>25</td>\n",
       "      <td>38</td>\n",
       "      <td>29.86</td>\n",
       "      <td>Fair / Windy</td>\n",
       "      <td>9</td>\n",
       "      <td>17</td>\n",
       "      <td>12</td>\n",
       "    </tr>\n",
       "    <tr>\n",
       "      <th>4</th>\n",
       "      <td>11</td>\n",
       "      <td>1</td>\n",
       "      <td>5</td>\n",
       "      <td>DL</td>\n",
       "      <td>N880DN</td>\n",
       "      <td>ATL</td>\n",
       "      <td>-4</td>\n",
       "      <td>139</td>\n",
       "      <td>760</td>\n",
       "      <td>360</td>\n",
       "      <td>...</td>\n",
       "      <td>32</td>\n",
       "      <td>58</td>\n",
       "      <td>W</td>\n",
       "      <td>24</td>\n",
       "      <td>35</td>\n",
       "      <td>29.91</td>\n",
       "      <td>Fair / Windy</td>\n",
       "      <td>9</td>\n",
       "      <td>17</td>\n",
       "      <td>13</td>\n",
       "    </tr>\n",
       "  </tbody>\n",
       "</table>\n",
       "<p>5 rows × 23 columns</p>\n",
       "</div>"
      ],
      "text/plain": [
       "   MONTH  DAY_OF_MONTH  DAY_OF_WEEK OP_UNIQUE_CARRIER TAIL_NUM DEST  \\\n",
       "0     11             1            5                B6   N828JB  CHS   \n",
       "1     11             1            5                B6   N992JB  LAX   \n",
       "2     11             1            5                B6   N959JB  FLL   \n",
       "3     11             1            5                B6   N999JQ  MCO   \n",
       "4     11             1            5                DL   N880DN  ATL   \n",
       "\n",
       "   DEP_DELAY  CRS_ELAPSED_TIME  DISTANCE  CRS_DEP_M  ...  Dew Point  Humidity  \\\n",
       "0         -1               124       636        324  ...         34        58   \n",
       "1         -7               371      2475        340  ...         34        58   \n",
       "2         40               181      1069        301  ...         34        58   \n",
       "3         -2               168       944        345  ...         34        58   \n",
       "4         -4               139       760        360  ...         32        58   \n",
       "\n",
       "   Wind Wind Speed  Wind Gust Pressure     Condition  sch_dep  sch_arr  \\\n",
       "0     W         25         38    29.86  Fair / Windy        9       17   \n",
       "1     W         25         38    29.86  Fair / Windy        9       17   \n",
       "2     W         25         38    29.86  Fair / Windy        9       17   \n",
       "3     W         25         38    29.86  Fair / Windy        9       17   \n",
       "4     W         24         35    29.91  Fair / Windy        9       17   \n",
       "\n",
       "  TAXI_OUT  \n",
       "0       14  \n",
       "1       15  \n",
       "2       22  \n",
       "3       12  \n",
       "4       13  \n",
       "\n",
       "[5 rows x 23 columns]"
      ]
     },
     "execution_count": 7,
     "metadata": {},
     "output_type": "execute_result"
    }
   ],
   "source": [
    "data.head()"
   ]
  },
  {
   "cell_type": "code",
   "execution_count": 9,
   "id": "1fc7f4b2",
   "metadata": {},
   "outputs": [
    {
     "data": {
      "text/plain": [
       "(28820, 23)"
      ]
     },
     "execution_count": 9,
     "metadata": {},
     "output_type": "execute_result"
    }
   ],
   "source": [
    "data.shape"
   ]
  },
  {
   "cell_type": "code",
   "execution_count": 10,
   "id": "e7c1c94e",
   "metadata": {},
   "outputs": [
    {
     "name": "stdout",
     "output_type": "stream",
     "text": [
      "<class 'pandas.core.frame.DataFrame'>\n",
      "RangeIndex: 28820 entries, 0 to 28819\n",
      "Data columns (total 23 columns):\n",
      " #   Column             Non-Null Count  Dtype  \n",
      "---  ------             --------------  -----  \n",
      " 0   MONTH              28820 non-null  int64  \n",
      " 1   DAY_OF_MONTH       28820 non-null  int64  \n",
      " 2   DAY_OF_WEEK        28820 non-null  int64  \n",
      " 3   OP_UNIQUE_CARRIER  28820 non-null  object \n",
      " 4   TAIL_NUM           28820 non-null  object \n",
      " 5   DEST               28820 non-null  object \n",
      " 6   DEP_DELAY          28820 non-null  int64  \n",
      " 7   CRS_ELAPSED_TIME   28820 non-null  int64  \n",
      " 8   DISTANCE           28820 non-null  int64  \n",
      " 9   CRS_DEP_M          28820 non-null  int64  \n",
      " 10  DEP_TIME_M         28820 non-null  int64  \n",
      " 11  CRS_ARR_M          28820 non-null  int64  \n",
      " 12  Temperature        28820 non-null  int64  \n",
      " 13  Dew Point          28820 non-null  object \n",
      " 14  Humidity           28820 non-null  int64  \n",
      " 15  Wind               28818 non-null  object \n",
      " 16  Wind Speed         28820 non-null  int64  \n",
      " 17  Wind Gust          28820 non-null  int64  \n",
      " 18  Pressure           28820 non-null  float64\n",
      " 19  Condition          28820 non-null  object \n",
      " 20  sch_dep            28820 non-null  int64  \n",
      " 21  sch_arr            28820 non-null  int64  \n",
      " 22  TAXI_OUT           28820 non-null  int64  \n",
      "dtypes: float64(1), int64(16), object(6)\n",
      "memory usage: 5.1+ MB\n"
     ]
    }
   ],
   "source": [
    "data.info()"
   ]
  },
  {
   "cell_type": "code",
   "execution_count": 12,
   "id": "8e290985",
   "metadata": {},
   "outputs": [],
   "source": [
    "#preproccessing\n",
    "\n",
    "data.columns=['A1','A2','A3','A4','A5','A6','A7','A8','A9','A10','A11','A12','A13','A14','A15','A16','A17','A18','A19','A20','A21','A22','A23']\n",
    "\n",
    "data.drop('A4',inplace=True, axis='columns')\n",
    "data.drop('A5',inplace=True, axis='columns')\n",
    "data.drop('A6',inplace=True, axis='columns')\n",
    "data.drop('A8',inplace=True, axis='columns')\n",
    "data.drop('A9',inplace=True, axis='columns')\n",
    "data.drop('A10',inplace=True, axis='columns')\n",
    "data.drop('A11',inplace=True, axis='columns')\n",
    "data.drop('A12',inplace=True, axis='columns')\n",
    "data.drop('A19',inplace=True, axis='columns')\n",
    "\n",
    "data.columns=['A1','A2','A3','A4','A5','A6','A7','A8','A9','A10','A11','A12','A13','A14']\n",
    "\n",
    "data=data[data['A8'].notna()]\n"
   ]
  },
  {
   "cell_type": "code",
   "execution_count": 13,
   "id": "d838c522",
   "metadata": {},
   "outputs": [
    {
     "name": "stderr",
     "output_type": "stream",
     "text": [
      "<ipython-input-13-72778ebca0bc>:10: SettingWithCopyWarning: \n",
      "A value is trying to be set on a copy of a slice from a DataFrame.\n",
      "Try using .loc[row_indexer,col_indexer] = value instead\n",
      "\n",
      "See the caveats in the documentation: https://pandas.pydata.org/pandas-docs/stable/user_guide/indexing.html#returning-a-view-versus-a-copy\n",
      "  X_train['A6']=label_encoder.fit_transform(X_train['A6'])\n",
      "<ipython-input-13-72778ebca0bc>:11: SettingWithCopyWarning: \n",
      "A value is trying to be set on a copy of a slice from a DataFrame.\n",
      "Try using .loc[row_indexer,col_indexer] = value instead\n",
      "\n",
      "See the caveats in the documentation: https://pandas.pydata.org/pandas-docs/stable/user_guide/indexing.html#returning-a-view-versus-a-copy\n",
      "  X_train['A8']=label_encoder.fit_transform(X_train['A8'])\n",
      "<ipython-input-13-72778ebca0bc>:12: SettingWithCopyWarning: \n",
      "A value is trying to be set on a copy of a slice from a DataFrame.\n",
      "Try using .loc[row_indexer,col_indexer] = value instead\n",
      "\n",
      "See the caveats in the documentation: https://pandas.pydata.org/pandas-docs/stable/user_guide/indexing.html#returning-a-view-versus-a-copy\n",
      "  X_train['A11']=label_encoder.fit_transform(X_train['A11'])\n",
      "<ipython-input-13-72778ebca0bc>:16: SettingWithCopyWarning: \n",
      "A value is trying to be set on a copy of a slice from a DataFrame.\n",
      "Try using .loc[row_indexer,col_indexer] = value instead\n",
      "\n",
      "See the caveats in the documentation: https://pandas.pydata.org/pandas-docs/stable/user_guide/indexing.html#returning-a-view-versus-a-copy\n",
      "  X_test['A6']=label_encoder.fit_transform(X_test['A6'])\n",
      "<ipython-input-13-72778ebca0bc>:17: SettingWithCopyWarning: \n",
      "A value is trying to be set on a copy of a slice from a DataFrame.\n",
      "Try using .loc[row_indexer,col_indexer] = value instead\n",
      "\n",
      "See the caveats in the documentation: https://pandas.pydata.org/pandas-docs/stable/user_guide/indexing.html#returning-a-view-versus-a-copy\n",
      "  X_test['A8']=label_encoder.fit_transform(X_test['A8'])\n",
      "<ipython-input-13-72778ebca0bc>:18: SettingWithCopyWarning: \n",
      "A value is trying to be set on a copy of a slice from a DataFrame.\n",
      "Try using .loc[row_indexer,col_indexer] = value instead\n",
      "\n",
      "See the caveats in the documentation: https://pandas.pydata.org/pandas-docs/stable/user_guide/indexing.html#returning-a-view-versus-a-copy\n",
      "  X_test['A11']=label_encoder.fit_transform(X_test['A11'])\n"
     ]
    }
   ],
   "source": [
    "X=data.iloc[:,:-1]\n",
    "y=data.iloc[:,-1]\n",
    "\n",
    "X_train,X_test,y_train,y_test=train_test_split(X,y,train_size=0.9,random_state=1)\n",
    "                                               \n",
    "label_encoder=LabelEncoder()\n",
    "\n",
    "X_train.columns=['A1','A2','A3','A4','A5','A6','A7','A8','A9','A10','A11','A12','A13']\n",
    "\n",
    "X_train['A6']=label_encoder.fit_transform(X_train['A6'])\n",
    "X_train['A8']=label_encoder.fit_transform(X_train['A8'])\n",
    "X_train['A11']=label_encoder.fit_transform(X_train['A11'])\n",
    "\n",
    "X_test.columns=['A1','A2','A3','A4','A5','A6','A7','A8','A9','A10','A11','A12','A13']\n",
    "\n",
    "X_test['A6']=label_encoder.fit_transform(X_test['A6'])\n",
    "X_test['A8']=label_encoder.fit_transform(X_test['A8'])\n",
    "X_test['A11']=label_encoder.fit_transform(X_test['A11'])"
   ]
  },
  {
   "cell_type": "code",
   "execution_count": 14,
   "id": "94c25a6d",
   "metadata": {},
   "outputs": [
    {
     "name": "stdout",
     "output_type": "stream",
     "text": [
      "6.691721938325104\n"
     ]
    }
   ],
   "source": [
    "#1a.Linear Regression\n",
    "\n",
    "l_reg=LinearRegression(normalize=True)\n",
    "l_reg.fit(X_train,y_train)\n",
    "\n",
    "p=l_reg.predict(X_test)\n",
    "\n",
    "mse = sklearn.metrics.mean_squared_error(y_test, p)\n",
    "rmse1a=math.sqrt(mse)\n",
    "\n",
    "print(rmse1a)"
   ]
  },
  {
   "cell_type": "code",
   "execution_count": 16,
   "id": "caee310e",
   "metadata": {},
   "outputs": [
    {
     "name": "stdout",
     "output_type": "stream",
     "text": [
      "6.694134608350302\n"
     ]
    }
   ],
   "source": [
    "#1b.Ridge Regression\n",
    "\n",
    "r_reg=Ridge(alpha=0.1, normalize=True)\n",
    "r_reg.fit(X_train,y_train)\n",
    "\n",
    "p=r_reg.predict(X_test)\n",
    "\n",
    "mse = sklearn.metrics.mean_squared_error(y_test, p)\n",
    "rmse1b=math.sqrt(mse)\n",
    "\n",
    "print(rmse1b)"
   ]
  },
  {
   "cell_type": "code",
   "execution_count": 18,
   "id": "90e08bf5",
   "metadata": {},
   "outputs": [
    {
     "name": "stdout",
     "output_type": "stream",
     "text": [
      "6.909664678697528\n"
     ]
    }
   ],
   "source": [
    "#1c.Lasso Regression\n",
    "\n",
    "la_reg=Lasso(alpha=0.1, normalize=True)\n",
    "la_reg.fit(X_train,y_train)\n",
    "\n",
    "p=la_reg.predict(X_test)\n",
    "\n",
    "mse = sklearn.metrics.mean_squared_error(y_test, p)\n",
    "rmse1c=math.sqrt(mse)\n",
    "\n",
    "print(rmse1c)"
   ]
  },
  {
   "cell_type": "code",
   "execution_count": 19,
   "id": "20bfc48f",
   "metadata": {},
   "outputs": [
    {
     "name": "stdout",
     "output_type": "stream",
     "text": [
      "7.851523807070254\n"
     ]
    }
   ],
   "source": [
    "#1d.KNN model\n",
    "\n",
    "knn=KNeighborsClassifier(n_neighbors=950)\n",
    "knn.fit(X_train,y_train)\n",
    "\n",
    "p=knn.predict(X_test)\n",
    "\n",
    "mse = sklearn.metrics.mean_squared_error(y_test, p)\n",
    "rmse1d=math.sqrt(mse)\n",
    "\n",
    "print(rmse1d)"
   ]
  },
  {
   "cell_type": "code",
   "execution_count": 20,
   "id": "200c2242",
   "metadata": {},
   "outputs": [
    {
     "name": "stdout",
     "output_type": "stream",
     "text": [
      "6.646694989706214\n"
     ]
    }
   ],
   "source": [
    "#1e.SVR\n",
    "\n",
    "s=SVR(kernel='rbf')\n",
    "s.fit(X_train,y_train)\n",
    "\n",
    "p=s.predict(X_test)\n",
    "\n",
    "mse = sklearn.metrics.mean_squared_error(y_test, p)\n",
    "rmse1e=math.sqrt(mse)\n",
    "\n",
    "print(rmse1e)"
   ]
  },
  {
   "cell_type": "code",
   "execution_count": 21,
   "id": "a5a89530",
   "metadata": {},
   "outputs": [
    {
     "name": "stdout",
     "output_type": "stream",
     "text": [
      "8.25146928224016\n"
     ]
    }
   ],
   "source": [
    "#1f.Naive Bayes\n",
    "\n",
    "nb=GaussianNB()\n",
    "nb.fit(X_train,y_train)\n",
    "\n",
    "p=nb.predict(X_test)\n",
    "\n",
    "mse = sklearn.metrics.mean_squared_error(y_test, p)\n",
    "rmse1f=math.sqrt(mse)\n",
    "\n",
    "print(rmse1f)"
   ]
  },
  {
   "cell_type": "code",
   "execution_count": 22,
   "id": "f57df9d0",
   "metadata": {},
   "outputs": [
    {
     "name": "stdout",
     "output_type": "stream",
     "text": [
      "8.007608283583629\n"
     ]
    }
   ],
   "source": [
    "#1g.Random Forest\n",
    "\n",
    "rfc=RandomForestClassifier()\n",
    "rfc.fit(X_train,y_train)\n",
    "\n",
    "p=rfc.predict(X_test)\n",
    "\n",
    "mse = sklearn.metrics.mean_squared_error(y_test, p)\n",
    "rmse1g=math.sqrt(mse)\n",
    "\n",
    "print(rmse1g)"
   ]
  },
  {
   "cell_type": "code",
   "execution_count": 23,
   "id": "d0c3e536",
   "metadata": {},
   "outputs": [],
   "source": [
    "cat_cols = ['A6', 'A8', 'A11']\n",
    "X_train = pd.get_dummies(X_train, columns=cat_cols)\n",
    "X_test = pd.get_dummies(X_test, columns=cat_cols)\n",
    "X_train,X_test = X_train.align(X_test, join='outer', axis=1, fill_value=0)"
   ]
  },
  {
   "cell_type": "code",
   "execution_count": 25,
   "id": "8ba470e9",
   "metadata": {},
   "outputs": [
    {
     "name": "stdout",
     "output_type": "stream",
     "text": [
      "10.18900957315251\n"
     ]
    }
   ],
   "source": [
    "#32a.Linear Regression\n",
    "\n",
    "l_reg=LinearRegression(normalize=True)\n",
    "l_reg.fit(X_train,y_train)\n",
    "\n",
    "p=l_reg.predict(X_test)\n",
    "\n",
    "mse = sklearn.metrics.mean_squared_error(y_test, p)\n",
    "rmse2a=math.sqrt(mse)\n",
    "\n",
    "print(rmse2a)"
   ]
  },
  {
   "cell_type": "code",
   "execution_count": 26,
   "id": "335c9b36",
   "metadata": {},
   "outputs": [
    {
     "name": "stdout",
     "output_type": "stream",
     "text": [
      "9.55344641611818\n"
     ]
    }
   ],
   "source": [
    "#2b.Ridge Regression\n",
    "\n",
    "r_reg=Ridge(alpha=0.1, normalize=True)\n",
    "r_reg.fit(X_train,y_train)\n",
    "\n",
    "p=r_reg.predict(X_test)\n",
    "\n",
    "mse = sklearn.metrics.mean_squared_error(y_test, p)\n",
    "rmse2b=math.sqrt(mse)\n",
    "\n",
    "print(rmse2b)"
   ]
  },
  {
   "cell_type": "code",
   "execution_count": 27,
   "id": "f442d5e0",
   "metadata": {},
   "outputs": [
    {
     "name": "stdout",
     "output_type": "stream",
     "text": [
      "6.909664678697528\n"
     ]
    }
   ],
   "source": [
    "#2c.Lasso Regression\n",
    "\n",
    "la_reg=Lasso(alpha=0.1, normalize=True)\n",
    "la_reg.fit(X_train,y_train)\n",
    "\n",
    "p=la_reg.predict(X_test)\n",
    "\n",
    "mse = sklearn.metrics.mean_squared_error(y_test, p)\n",
    "rmse2c=math.sqrt(mse)\n",
    "\n",
    "print(rmse2c)"
   ]
  },
  {
   "cell_type": "code",
   "execution_count": 28,
   "id": "cdb02105",
   "metadata": {},
   "outputs": [
    {
     "name": "stdout",
     "output_type": "stream",
     "text": [
      "7.859938037554652\n"
     ]
    }
   ],
   "source": [
    "#2d.KNN model\n",
    "\n",
    "knn=KNeighborsClassifier(n_neighbors=950)\n",
    "knn.fit(X_train,y_train)\n",
    "\n",
    "p=knn.predict(X_test)\n",
    "\n",
    "mse = sklearn.metrics.mean_squared_error(y_test, p)\n",
    "rmse2d=math.sqrt(mse)\n",
    "\n",
    "print(rmse2d)"
   ]
  },
  {
   "cell_type": "code",
   "execution_count": 29,
   "id": "0febb216",
   "metadata": {},
   "outputs": [
    {
     "name": "stdout",
     "output_type": "stream",
     "text": [
      "6.6745917736972\n"
     ]
    }
   ],
   "source": [
    "#2e.SVR\n",
    "\n",
    "s=SVR(kernel='rbf')\n",
    "s.fit(X_train,y_train)\n",
    "\n",
    "p=s.predict(X_test)\n",
    "\n",
    "mse = sklearn.metrics.mean_squared_error(y_test, p)\n",
    "rmse2e=math.sqrt(mse)\n",
    "\n",
    "print(rmse2e)"
   ]
  },
  {
   "cell_type": "code",
   "execution_count": 30,
   "id": "3c4f08d1",
   "metadata": {},
   "outputs": [
    {
     "name": "stdout",
     "output_type": "stream",
     "text": [
      "18.23386893682397\n"
     ]
    }
   ],
   "source": [
    "#2f.Naive Bayes\n",
    "\n",
    "nb=GaussianNB()\n",
    "nb.fit(X_train,y_train)\n",
    "\n",
    "p=nb.predict(X_test)\n",
    "\n",
    "mse = sklearn.metrics.mean_squared_error(y_test, p)\n",
    "rmse2f=math.sqrt(mse)\n",
    "\n",
    "print(rmse2f)"
   ]
  },
  {
   "cell_type": "code",
   "execution_count": 31,
   "id": "624a2aa8",
   "metadata": {},
   "outputs": [
    {
     "name": "stdout",
     "output_type": "stream",
     "text": [
      "7.884950836100176\n"
     ]
    }
   ],
   "source": [
    "#2g.Random Forest\n",
    "\n",
    "rfc=RandomForestClassifier()\n",
    "rfc.fit(X_train,y_train)\n",
    "\n",
    "p=rfc.predict(X_test)\n",
    "\n",
    "mse = sklearn.metrics.mean_squared_error(y_test, p)\n",
    "rmse2g=math.sqrt(mse)\n",
    "\n",
    "print(rmse2g)"
   ]
  },
  {
   "cell_type": "code",
   "execution_count": 35,
   "id": "9ed14924",
   "metadata": {},
   "outputs": [
    {
     "data": {
      "image/png": "[encoded data removed]",
      "text/plain": [
       "<Figure size 432x288 with 1 Axes>"
      ]
     },
     "metadata": {
      "needs_background": "light"
     },
     "output_type": "display_data"
    }
   ],
   "source": [
    "Cy1=np.array([rmse1a,rmse1b,rmse1c,rmse1d,rmse1e,rmse1f,rmse1g])\n",
    "Cy2=np.array([rmse2a,rmse2b,rmse2c,rmse2d,rmse2e,rmse2f,rmse2g])\n",
    "\n",
    "Cx=np.array([\"LinearReg\",\"L1Reg\",\"L2Reg\",\"KNN\",\"SVR\",\"NaivB\",\"RanFor\"])\n",
    "\n",
    "x_axis=np.arange(len(Cx))\n",
    "\n",
    "plt.bar(x_axis-0.2,Cy1,0.4,label='LabelEncodedData')\n",
    "plt.bar(x_axis+0.2,Cy2,0.4,label='OneHotEncodedData')\n",
    "\n",
    "plt.xticks(x_axis,Cx)\n",
    "plt.ylabel(\"RMSE Values\")\n",
    "plt.xlabel(\"Models\")\n",
    "\n",
    "plt.legend()\n",
    "plt.show()"
   ]
  },
  {
   "cell_type": "code",
   "execution_count": null,
   "id": "46304160",
   "metadata": {},
   "outputs": [],
   "source": []
  }
 ],
 "metadata": {
  "kernelspec": {
   "display_name": "Python 3",
   "language": "python",
   "name": "python3"
  },
  "language_info": {
   "codemirror_mode": {
    "name": "ipython",
    "version": 3
   },
   "file_extension": ".py",
   "mimetype": "text/x-python",
   "name": "python",
   "nbconvert_exporter": "python",
   "pygments_lexer": "ipython3",
   "version": "3.8.8"
  }
 },
 "nbformat": 4,
 "nbformat_minor": 5
}
